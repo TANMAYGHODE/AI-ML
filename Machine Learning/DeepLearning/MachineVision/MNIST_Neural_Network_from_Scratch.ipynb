{
  "nbformat": 4,
  "nbformat_minor": 0,
  "metadata": {
    "colab": {
      "name": "XOR_Neural_Network_from_Scratch (2).ipynb",
      "provenance": [],
      "collapsed_sections": []
    },
    "kernelspec": {
      "name": "python3",
      "display_name": "Python 3"
    }
  },
  "cells": [
    {
      "cell_type": "code",
      "metadata": {
        "id": "jojVq-2xSwZy"
      },
      "source": [
        "import numpy as np\n",
        "\n",
        "def tanh(x):\n",
        "  return np.tanh(x)\n",
        "\n",
        "def d_tanh(x):\n",
        "  return 1 - np.square(np.tanh(x))\n",
        "\n",
        "def sigmoid(x):\n",
        "  return 1/(1 + np.exp(-x))\n",
        "\n",
        "def d_sigmoid(x):\n",
        "  return (1 - sigmoid(x)) * sigmoid(x)\n",
        "\n",
        "def logloss(y , a):\n",
        "  return -(y*np.log(a) + (1-y) * np.log(1-a))\n",
        "\n",
        "def d_logloss(y , a):\n",
        "  return (a-y) / (a*(1 - a))"
      ],
      "execution_count": 78,
      "outputs": []
    },
    {
      "cell_type": "code",
      "metadata": {
        "id": "8yQN92h4ItT3"
      },
      "source": [
        "class Layer:\n",
        "  lr=0.0001\n",
        "\n",
        "  def __init__(self, input, neur,act,d_act):\n",
        "    self.W=np.random.randn(neur, input)\n",
        "    self.b=np.zeros((neur,1))\n",
        "    self.act=act\n",
        "    self.d_act=d_act\n",
        "\n",
        "  def feed_forward(self, A_prev):  \n",
        "    self.A_prev=A_prev # saved for backpropogation\n",
        "    self.Z=np.dot(self.W,self.A_prev)+self.b\n",
        "    self.A=self.act(self.Z)\n",
        "    return self.A\n",
        "\n",
        "  def back_prop(self, dA):# All derivatives are with respect to cost like dC/dZ etc.\n",
        "    dZ=np.multiply(self.d_act(self.Z),dA)\n",
        "    dW=1/dZ.shape[0]*np.dot(dZ,self.A_prev.T)\n",
        "    db=1/dZ.shape[0]*np.sum(dZ, axis=1, keepdims=True)\n",
        "    dA_prev=np.dot(self.W.T,dZ)\n",
        "\n",
        "    self.W = self.W - self.lr * dW\n",
        "    self.b = self.b - self.lr * db\n",
        "    return dA_prev  "
      ],
      "execution_count": 79,
      "outputs": []
    },
    {
      "cell_type": "code",
      "metadata": {
        "colab": {
          "base_uri": "https://localhost:8080/"
        },
        "id": "b0DaPPpvk3Ta",
        "outputId": "cdbeffdb-7275-4602-84b5-f10806d198bc"
      },
      "source": [
        "import pandas as pd\n",
        "df = pd.read_csv('/content/sample_data/mnist_train_small.csv')\n",
        "df.head()\n",
        "df['0.590'].value_counts()"
      ],
      "execution_count": 80,
      "outputs": [
        {
          "output_type": "execute_result",
          "data": {
            "text/plain": [
              "0    19999\n",
              "Name: 0.590, dtype: int64"
            ]
          },
          "metadata": {
            "tags": []
          },
          "execution_count": 80
        }
      ]
    },
    {
      "cell_type": "code",
      "metadata": {
        "colab": {
          "base_uri": "https://localhost:8080/"
        },
        "id": "6Vn_us4llwGJ",
        "outputId": "48c842d1-26ca-4cb3-ef11-04da124a4a49"
      },
      "source": [
        "from keras.datasets import mnist\n",
        "\n",
        "(train_X, train_y), (test_X, test_y) = mnist.load_data()\n",
        "print('X_train: ' + str(train_X.shape))\n",
        "print('Y_train: ' + str(train_y.shape))\n",
        "print('X_test:  '  + str(test_X.shape))\n",
        "print('Y_test:  '  + str(test_y.shape))\n",
        "\n",
        "X_train: (60000, 28, 28)\n",
        "Y_train: (60000,)\n",
        "X_test:  (10000, 28, 28)\n",
        "Y_test:  (10000,)"
      ],
      "execution_count": 81,
      "outputs": [
        {
          "output_type": "stream",
          "text": [
            "X_train: (60000, 28, 28)\n",
            "Y_train: (60000,)\n",
            "X_test:  (10000, 28, 28)\n",
            "Y_test:  (10000,)\n"
          ],
          "name": "stdout"
        }
      ]
    },
    {
      "cell_type": "code",
      "metadata": {
        "colab": {
          "base_uri": "https://localhost:8080/"
        },
        "id": "yFzFRc_zv-KZ",
        "outputId": "32743f1f-1abd-4218-a977-250c1cc8bee6"
      },
      "source": [
        "x_train = np.array(train_X).reshape(60000 , 784)\n",
        "#y_train = np.array(train_y).reshape(60000 , 1)\n",
        "y_train = np.zeros((60000 , 10))\n",
        "for i in range(len(y_train)):\n",
        "  y_train[i][train_y[i]] = 1\n",
        "\n",
        "print(y_train[0])"
      ],
      "execution_count": 82,
      "outputs": [
        {
          "output_type": "stream",
          "text": [
            "[0. 0. 0. 0. 0. 1. 0. 0. 0. 0.]\n"
          ],
          "name": "stdout"
        }
      ]
    },
    {
      "cell_type": "code",
      "metadata": {
        "id": "bxcfRHOSyiV8"
      },
      "source": [
        "x_train = (x_train - np.mean(x_train)) / np.std(x_train)"
      ],
      "execution_count": 83,
      "outputs": []
    },
    {
      "cell_type": "code",
      "metadata": {
        "id": "bFprndCdx9ND"
      },
      "source": [
        "m = 60000\n",
        "epochs = 100\n",
        "\n",
        "layers = [Layer(784 , 64 , tanh , d_tanh) , Layer(64 , 32 , tanh , d_tanh), Layer(32 , 10 , sigmoid , d_sigmoid)]\n",
        "costs = []"
      ],
      "execution_count": 84,
      "outputs": []
    },
    {
      "cell_type": "code",
      "metadata": {
        "colab": {
          "base_uri": "https://localhost:8080/"
        },
        "id": "lbyZ-LlygeHi",
        "outputId": "881f2fa5-862d-44d4-dcf5-569657ea4309"
      },
      "source": [
        "for epoch in range(epochs):\n",
        "  A = x_train.T\n",
        "  print(epoch)\n",
        "  for layer in layers:\n",
        "    A = layer.feed_forward(A)\n",
        "\n",
        "  \n",
        "\n",
        "  cost = 1/m * np.sum(logloss(y_train.T , A))\n",
        "  costs.append(cost)\n",
        "\n",
        "  dA = d_logloss(y_train.T , A)\n",
        "  for layer in reversed(layers):\n",
        "    dA = layer.back_prop(dA)\n",
        "\n",
        "A = x_train.T\n",
        "for layer in layers:\n",
        "  A = layer.feed_forward(A)\n",
        "print(A)"
      ],
      "execution_count": 85,
      "outputs": [
        {
          "output_type": "stream",
          "text": [
            "0\n",
            "1\n",
            "2\n",
            "3\n",
            "4\n",
            "5\n",
            "6\n",
            "7\n",
            "8\n",
            "9\n",
            "10\n",
            "11\n",
            "12\n",
            "13\n",
            "14\n",
            "15\n",
            "16\n",
            "17\n",
            "18\n",
            "19\n",
            "20\n",
            "21\n",
            "22\n",
            "23\n",
            "24\n",
            "25\n",
            "26\n",
            "27\n",
            "28\n",
            "29\n",
            "30\n",
            "31\n",
            "32\n",
            "33\n",
            "34\n",
            "35\n",
            "36\n",
            "37\n",
            "38\n",
            "39\n",
            "40\n",
            "41\n",
            "42\n",
            "43\n",
            "44\n",
            "45\n",
            "46\n",
            "47\n",
            "48\n",
            "49\n",
            "50\n",
            "51\n",
            "52\n",
            "53\n",
            "54\n",
            "55\n",
            "56\n",
            "57\n",
            "58\n",
            "59\n",
            "60\n",
            "61\n",
            "62\n",
            "63\n",
            "64\n",
            "65\n",
            "66\n",
            "67\n",
            "68\n",
            "69\n",
            "70\n",
            "71\n",
            "72\n",
            "73\n",
            "74\n",
            "75\n",
            "76\n",
            "77\n",
            "78\n",
            "79\n",
            "80\n",
            "81\n",
            "82\n",
            "83\n",
            "84\n",
            "85\n",
            "86\n",
            "87\n",
            "88\n",
            "89\n",
            "90\n",
            "91\n",
            "92\n",
            "93\n",
            "94\n",
            "95\n",
            "96\n",
            "97\n",
            "98\n",
            "99\n",
            "[[3.07047980e-05 8.90801666e-01 4.78902049e-03 ... 1.08840820e-03\n",
            "  9.64879398e-01 3.60985755e-01]\n",
            " [2.14883248e-02 1.31583275e-02 2.78971394e-02 ... 3.08657847e-03\n",
            "  5.67482101e-03 4.17757144e-03]\n",
            " [1.44020380e-01 4.14475471e-02 1.38921742e-01 ... 3.64702329e-03\n",
            "  8.69632318e-02 1.92455412e-01]\n",
            " ...\n",
            " [1.94010596e-02 1.93123984e-04 2.86208911e-02 ... 8.02260873e-02\n",
            "  3.57889509e-03 8.79083769e-01]\n",
            " [1.64953297e-02 2.60674595e-02 4.34192343e-02 ... 1.13373536e-01\n",
            "  7.34810844e-03 1.58228459e-01]\n",
            " [5.96204577e-03 3.15567249e-03 1.19564698e-02 ... 1.62689939e-01\n",
            "  2.11140829e-03 3.15718226e-01]]\n"
          ],
          "name": "stdout"
        }
      ]
    },
    {
      "cell_type": "code",
      "metadata": {
        "id": "3_dQRKmDd4Uy",
        "colab": {
          "base_uri": "https://localhost:8080/",
          "height": 286
        },
        "outputId": "58c97dc4-77f8-49ff-fda1-1186001d467b"
      },
      "source": [
        "import matplotlib.pyplot as plt\n",
        "plt.plot(range(epochs), costs)\n"
      ],
      "execution_count": 86,
      "outputs": [
        {
          "output_type": "execute_result",
          "data": {
            "text/plain": [
              "[<matplotlib.lines.Line2D at 0x7f24c4fd3050>]"
            ]
          },
          "metadata": {
            "tags": []
          },
          "execution_count": 86
        },
        {
          "output_type": "display_data",
          "data": {
            "image/png": "[encoded data removed]",
            "text/plain": [
              "<Figure size 432x288 with 1 Axes>"
            ]
          },
          "metadata": {
            "tags": [],
            "needs_background": "light"
          }
        }
      ]
    },
    {
      "cell_type": "code",
      "metadata": {
        "id": "SQRA6N5D0XIK"
      },
      "source": [
        "x_test = np.array(test_X).reshape(10000 , 784)\n",
        "x_test = (x_test - np.mean(x_test)) / np.std(x_test)"
      ],
      "execution_count": 87,
      "outputs": []
    },
    {
      "cell_type": "code",
      "metadata": {
        "colab": {
          "base_uri": "https://localhost:8080/"
        },
        "id": "gC6e_zy11EWW",
        "outputId": "1e99f1ac-ede8-4d8a-da1a-460d1eceb0a8"
      },
      "source": [
        "A = x_test.T\n",
        "for layer in layers:\n",
        "  A = layer.feed_forward(A)\n",
        "print(A)"
      ],
      "execution_count": 88,
      "outputs": [
        {
          "output_type": "stream",
          "text": [
            "[[2.45506806e-03 1.43483851e-03 3.41550127e-02 ... 6.04743459e-04\n",
            "  9.56031126e-04 9.90909614e-02]\n",
            " [1.83852520e-03 6.07062599e-02 9.27570714e-01 ... 8.32210399e-02\n",
            "  3.96217826e-02 5.63491373e-03]\n",
            " [1.47579087e-01 4.03615457e-02 2.48801258e-02 ... 9.12638227e-02\n",
            "  3.94950399e-03 4.97586966e-02]\n",
            " ...\n",
            " [2.80481925e-01 6.73349376e-03 1.46757090e-02 ... 4.26472415e-01\n",
            "  1.43116639e-01 2.56048430e-02]\n",
            " [2.71967794e-02 3.34571696e-02 1.24908271e-01 ... 2.45854692e-02\n",
            "  6.63792828e-02 4.05920174e-02]\n",
            " [4.51250477e-02 3.69395338e-03 2.45866078e-02 ... 7.60339375e-02\n",
            "  1.32238674e-01 2.22757982e-02]]\n"
          ],
          "name": "stdout"
        }
      ]
    },
    {
      "cell_type": "code",
      "metadata": {
        "colab": {
          "base_uri": "https://localhost:8080/"
        },
        "id": "P7HjcFi_1RIZ",
        "outputId": "dd208850-3640-47d8-83d7-94828c184fb0"
      },
      "source": [
        "print(A.shape)\n",
        "A = A.T\n",
        "A.shape"
      ],
      "execution_count": 89,
      "outputs": [
        {
          "output_type": "stream",
          "text": [
            "(10, 10000)\n"
          ],
          "name": "stdout"
        },
        {
          "output_type": "execute_result",
          "data": {
            "text/plain": [
              "(10000, 10)"
            ]
          },
          "metadata": {
            "tags": []
          },
          "execution_count": 89
        }
      ]
    },
    {
      "cell_type": "code",
      "metadata": {
        "colab": {
          "base_uri": "https://localhost:8080/"
        },
        "id": "AFlkPF8x1lJM",
        "outputId": "b69bcd40-b532-4801-9feb-6a41e05e5616"
      },
      "source": [
        "np.argmax(A[0])"
      ],
      "execution_count": 90,
      "outputs": [
        {
          "output_type": "execute_result",
          "data": {
            "text/plain": [
              "7"
            ]
          },
          "metadata": {
            "tags": []
          },
          "execution_count": 90
        }
      ]
    },
    {
      "cell_type": "code",
      "metadata": {
        "colab": {
          "base_uri": "https://localhost:8080/"
        },
        "id": "ZI1i0-qg1tmx",
        "outputId": "263c32e7-9d6c-47f0-b6e3-76a34a015391"
      },
      "source": [
        "test_y[0]"
      ],
      "execution_count": 91,
      "outputs": [
        {
          "output_type": "execute_result",
          "data": {
            "text/plain": [
              "7"
            ]
          },
          "metadata": {
            "tags": []
          },
          "execution_count": 91
        }
      ]
    },
    {
      "cell_type": "code",
      "metadata": {
        "colab": {
          "base_uri": "https://localhost:8080/"
        },
        "id": "R2Nvs0n7123U",
        "outputId": "532d84d6-1843-4976-952b-991efd4caf41"
      },
      "source": [
        "A[0]"
      ],
      "execution_count": 92,
      "outputs": [
        {
          "output_type": "execute_result",
          "data": {
            "text/plain": [
              "array([0.00245507, 0.00183853, 0.14757909, 0.01446029, 0.0424508 ,\n",
              "       0.01960007, 0.26805617, 0.28048193, 0.02719678, 0.04512505])"
            ]
          },
          "metadata": {
            "tags": []
          },
          "execution_count": 92
        }
      ]
    },
    {
      "cell_type": "code",
      "metadata": {
        "colab": {
          "base_uri": "https://localhost:8080/"
        },
        "id": "bYX9ExGF2KOK",
        "outputId": "38f597ed-d844-4a6a-86ad-3e895a6eb7a5"
      },
      "source": [
        "count = 0\n",
        "for i in range(len(test_y)):\n",
        "  if test_y[i] == np.argmax(A[i]):\n",
        "    count+=1\n",
        "  \n",
        "print(count/100)"
      ],
      "execution_count": 93,
      "outputs": [
        {
          "output_type": "stream",
          "text": [
            "51.87\n"
          ],
          "name": "stdout"
        }
      ]
    }
  ]
}