{
  "nbformat": 4,
  "nbformat_minor": 0,
  "metadata": {
    "colab": {
      "name": "XOR_Neural_Network_from_Scratch.ipynb",
      "provenance": [],
      "collapsed_sections": []
    },
    "kernelspec": {
      "name": "python3",
      "display_name": "Python 3"
    }
  },
  "cells": [
    {
      "cell_type": "code",
      "metadata": {
        "id": "2_vvshMhQm7m"
      },
      "source": [
        "import numpy as np\n",
        "\n",
        "def tanh(x):\n",
        "  return np.tanh(x)\n",
        "\n",
        "def d_tanh(x):\n",
        "    return 1 - np.square(np.tanh(x))\n",
        "\n",
        "def sigmoid(x):\n",
        "    return 1/(1 + np.exp(-x))\n",
        "\n",
        "def d_sigmoid(x):\n",
        "    return (1 - sigmoid(x)) * sigmoid(x)\n",
        "\n",
        "def logloss(y, a):\n",
        "    return -(y*np.log(a) + (1-y)*np.log(1-a))\n",
        "\n",
        "def d_logloss(y, a):\n",
        "    return (a - y)/(a*(1 - a))      "
      ],
      "execution_count": null,
      "outputs": []
    },
    {
      "cell_type": "code",
      "metadata": {
        "id": "8yQN92h4ItT3"
      },
      "source": [
        "class Layer:\n",
        "  lr=0.1\n",
        "\n",
        "  def __init__(self, input, neur,act,d_act):\n",
        "    self.W=np.random.randn(neur, input)\n",
        "    self.b=np.zeros((neur,1))\n",
        "    self.act=act\n",
        "    self.d_act=d_act\n",
        "\n",
        "  def feed_forward(self, A_prev):  \n",
        "    self.A_prev=A_prev # saved for backpropogation\n",
        "    self.Z=np.dot(self.W,self.A_prev)+self.b\n",
        "    self.A=self.act(self.Z)\n",
        "    return self.A\n",
        "\n",
        "  def back_prop(self, dA):# All derivatives are with respect to cost like dC/dZ etc.\n",
        "    dZ=np.multiply(self.d_act(self.Z),dA)\n",
        "    dW=1/dZ.shape[0]*np.dot(dZ,self.A_prev.T)\n",
        "    db=1/dZ.shape[0]*np.sum(dZ, axis=1, keepdims=True)\n",
        "    dA_prev=np.dot(self.W.T,dZ)\n",
        "\n",
        "    self.W = self.W - self.lr * dW\n",
        "    self.b = self.b - self.lr * db\n",
        "    return dA_prev  "
      ],
      "execution_count": null,
      "outputs": []
    },
    {
      "cell_type": "code",
      "metadata": {
        "id": "HOKpGUJAWvHY"
      },
      "source": [
        "x_train = np.array([[0, 0, 1, 1,1, 1, 0, 0], [0, 1, 0, 1,0, 1, 0, 1]]) # dim x m\n",
        "y_train = np.array([[0, 1, 1, 0, 1, 0, 0, 1]]) # 1 x m\n",
        "\n",
        "m = 4\n",
        "epochs = 1500\n",
        "\n",
        "layers = [Layer(2, 3, tanh, d_tanh), Layer(3, 1, sigmoid, d_sigmoid)] # Input and output layer\n",
        "costs = [] # to plot graph\n",
        "\n"
      ],
      "execution_count": null,
      "outputs": []
    },
    {
      "cell_type": "code",
      "metadata": {
        "id": "OeZ3JbXEXbWQ",
        "colab": {
          "base_uri": "https://localhost:8080/"
        },
        "outputId": "64f9e98e-4133-4098-ccc4-8fe6c90d2c40"
      },
      "source": [
        "for epoch in range(epochs):\n",
        "    A = x_train\n",
        "    for layer in layers:\n",
        "        A = layer.feed_forward(A)\n",
        "\n",
        "    cost = 1/m * np.sum(logloss(y_train, A))\n",
        "    costs.append(cost)\n",
        "\n",
        "    dA = d_logloss(y_train, A)\n",
        "    for layer in reversed(layers):\n",
        "        dA = layer.back_prop(dA)\n",
        "\n",
        "\n",
        "# Making predictions\n",
        "A = x_train\n",
        "for layer in layers:\n",
        "    A = layer.feed_forward(A)\n",
        "print(A)"
      ],
      "execution_count": null,
      "outputs": [
        {
          "output_type": "stream",
          "text": [
            "[[7.23597885e-04 9.97284581e-01 9.97294702e-01 3.20641041e-03\n",
            "  9.97294702e-01 3.20641041e-03 7.23597885e-04 9.97284581e-01]]\n"
          ],
          "name": "stdout"
        }
      ]
    },
    {
      "cell_type": "code",
      "metadata": {
        "id": "3_dQRKmDd4Uy",
        "colab": {
          "base_uri": "https://localhost:8080/",
          "height": 283
        },
        "outputId": "de2ae56f-fe8d-4a33-d8d1-fd9ea3814099"
      },
      "source": [
        "import matplotlib.pyplot as plt\n",
        "plt.plot(range(epochs), costs)\n"
      ],
      "execution_count": null,
      "outputs": [
        {
          "output_type": "execute_result",
          "data": {
            "text/plain": [
              "[<matplotlib.lines.Line2D at 0x7f6480e6eb50>]"
            ]
          },
          "metadata": {
            "tags": []
          },
          "execution_count": 20
        },
        {
          "output_type": "display_data",
          "data": {
            "image/png": "[encoded data removed]",
            "text/plain": [
              "<Figure size 432x288 with 1 Axes>"
            ]
          },
          "metadata": {
            "tags": [],
            "needs_background": "light"
          }
        }
      ]
    }
  ]
}