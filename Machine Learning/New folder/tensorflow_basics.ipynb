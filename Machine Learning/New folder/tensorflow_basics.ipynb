{
  "nbformat": 4,
  "nbformat_minor": 0,
  "metadata": {
    "colab": {
      "name": "tensorflow_basics.ipynb",
      "provenance": []
    },
    "kernelspec": {
      "name": "python3",
      "display_name": "Python 3"
    }
  },
  "cells": [
    {
      "cell_type": "code",
      "metadata": {
        "id": "KfGYZ22pDyax",
        "colab_type": "code",
        "colab": {}
      },
      "source": [
        "%tensorflow_version 1.x"
      ],
      "execution_count": null,
      "outputs": []
    },
    {
      "cell_type": "code",
      "metadata": {
        "id": "jPR6tL5ZDl8A",
        "colab_type": "code",
        "colab": {}
      },
      "source": [
        "import numpy as np\n",
        "import tensorflow as tf"
      ],
      "execution_count": null,
      "outputs": []
    },
    {
      "cell_type": "code",
      "metadata": {
        "id": "IaZgCJLDDGL7",
        "colab_type": "code",
        "colab": {}
      },
      "source": [
        "A = tf.placeholder(tf.float32, shape=(5, 5), name='A')\n",
        "v = tf.placeholder(tf.float32)\n",
        "w = tf.matmul(A, v)"
      ],
      "execution_count": null,
      "outputs": []
    },
    {
      "cell_type": "code",
      "metadata": {
        "id": "MwpNNY0yDS-g",
        "colab_type": "code",
        "colab": {
          "base_uri": "https://localhost:8080/",
          "height": 105
        },
        "outputId": "a3f04ceb-695a-4851-8421-a32d8153db43"
      },
      "source": [
        "with tf.Session() as session:\n",
        "   output = session.run(w, feed_dict={A: np.random.randn(5, 5), v: np.random.randn(5, 1)})\n",
        "   print(output, type(output))"
      ],
      "execution_count": null,
      "outputs": [
        {
          "output_type": "stream",
          "text": [
            "[[ 0.48268625]\n",
            " [-0.7590695 ]\n",
            " [ 1.7777084 ]\n",
            " [-1.1147269 ]\n",
            " [ 0.9343786 ]] <class 'numpy.ndarray'>\n"
          ],
          "name": "stdout"
        }
      ]
    },
    {
      "cell_type": "code",
      "metadata": {
        "id": "w0jnqEt4EBN5",
        "colab_type": "code",
        "colab": {}
      },
      "source": [
        "shape = (2, 2)\n",
        "x = tf.Variable(tf.random_normal(shape))\n",
        "# x = tf.Variable(np.random.randn(2, 2))\n",
        "t = tf.Variable(0)"
      ],
      "execution_count": null,
      "outputs": []
    },
    {
      "cell_type": "code",
      "metadata": {
        "id": "2p0uvaXlEDnR",
        "colab_type": "code",
        "colab": {}
      },
      "source": [
        "init = tf.global_variables_initializer()"
      ],
      "execution_count": null,
      "outputs": []
    },
    {
      "cell_type": "code",
      "metadata": {
        "id": "NdVxyCUkEGX8",
        "colab_type": "code",
        "colab": {}
      },
      "source": [
        "with tf.Session() as session:\n",
        "    out = session.run(init) # and then \"run\" the init operation\n",
        "    print(out) # it's just None\n",
        "\n",
        "    # eval() in tf is like get_value() in Theano\n",
        "    print(x.eval()) # the initial value of x\n",
        "    print(t.eval())"
      ],
      "execution_count": null,
      "outputs": []
    },
    {
      "cell_type": "code",
      "metadata": {
        "id": "S6U4agtvEJDn",
        "colab_type": "code",
        "colab": {}
      },
      "source": [
        "u = tf.Variable(20.0)\n",
        "cost = u*u + u + 1.0"
      ],
      "execution_count": null,
      "outputs": []
    },
    {
      "cell_type": "code",
      "metadata": {
        "id": "Q9zIR8J7ELjo",
        "colab_type": "code",
        "colab": {}
      },
      "source": [
        "train_op = tf.train.GradientDescentOptimizer(0.3).minimize(cost)\n",
        "\n",
        "# let's run a session again\n",
        "init = tf.global_variables_initializer()"
      ],
      "execution_count": null,
      "outputs": []
    },
    {
      "cell_type": "code",
      "metadata": {
        "id": "uXXbhIVLEPhH",
        "colab_type": "code",
        "colab": {
          "base_uri": "https://localhost:8080/",
          "height": 230
        },
        "outputId": "60c6f6f3-ae42-4f72-ce78-3fa0fd2681bf"
      },
      "source": [
        "with tf.Session() as session:\n",
        "    session.run(init)\n",
        "\n",
        "    # Strangely, while the weight update is automated, the loop itself is not.\n",
        "    # So we'll just call train_op until convergence.\n",
        "    # This is useful for us anyway since we want to track the cost function.\n",
        "    for i in range(12):\n",
        "        session.run(train_op)\n",
        "        print(\"i = %d, cost = %.3f, u = %.3f\" % (i, cost.eval(), u.eval()))"
      ],
      "execution_count": null,
      "outputs": [
        {
          "output_type": "stream",
          "text": [
            "i = 0, cost = 67.990, u = 7.700\n",
            "i = 1, cost = 11.508, u = 2.780\n",
            "i = 2, cost = 2.471, u = 0.812\n",
            "i = 3, cost = 1.025, u = 0.025\n",
            "i = 4, cost = 0.794, u = -0.290\n",
            "i = 5, cost = 0.757, u = -0.416\n",
            "i = 6, cost = 0.751, u = -0.466\n",
            "i = 7, cost = 0.750, u = -0.487\n",
            "i = 8, cost = 0.750, u = -0.495\n",
            "i = 9, cost = 0.750, u = -0.498\n",
            "i = 10, cost = 0.750, u = -0.499\n",
            "i = 11, cost = 0.750, u = -0.500\n"
          ],
          "name": "stdout"
        }
      ]
    },
    {
      "cell_type": "markdown",
      "metadata": {
        "id": "eltskWO8EWB4",
        "colab_type": "text"
      },
      "source": [
        "Building the basicx neural network using tensorflow"
      ]
    },
    {
      "cell_type": "code",
      "metadata": {
        "id": "yUc50P0rEVkI",
        "colab_type": "code",
        "colab": {}
      },
      "source": [
        "import matplotlib.pyplot as plt"
      ],
      "execution_count": null,
      "outputs": []
    },
    {
      "cell_type": "code",
      "metadata": {
        "id": "ohjEQzQHEvLQ",
        "colab_type": "code",
        "colab": {}
      },
      "source": [
        "import pandas as pd\n",
        "\n",
        "\n",
        "def get_normalized_data():\n",
        "    print(\"Reading in and transforming data...\")\n",
        "\n",
        "    # if not os.path.exists('../large_files/train.csv'):\n",
        "    #     print('Looking for ../large_files/train.csv')\n",
        "    #     print('You have not downloaded the data and/or not placed the files in the correct location.')\n",
        "    #     print('Please get the data from: https://www.kaggle.com/c/digit-recognizer')\n",
        "    #     print('Place train.csv in the folder large_files adjacent to the class folder')\n",
        "    #     exit()\n",
        "\n",
        "    df = pd.read_csv('/content/sample_data/mnist_train_small.csv')\n",
        "    data = df.values.astype(np.float32)\n",
        "    np.random.shuffle(data)\n",
        "    X = data[:, 1:]\n",
        "    Y = data[:, 0]\n",
        "    Xtrain = X[:-1000]\n",
        "    Ytrain = Y[:-1000]\n",
        "    Xtest  = X[-1000:]\n",
        "    Ytest  = Y[-1000:]\n",
        "\n",
        "    # normalize the data\n",
        "    mu = Xtrain.mean(axis=0)\n",
        "    std = Xtrain.std(axis=0)\n",
        "    np.place(std, std == 0, 1)\n",
        "    Xtrain = (Xtrain - mu) / std\n",
        "    Xtest = (Xtest - mu) / std\n",
        "    \n",
        "    return Xtrain, Xtest, Ytrain, Ytest"
      ],
      "execution_count": null,
      "outputs": []
    },
    {
      "cell_type": "code",
      "metadata": {
        "id": "3OeiNUneE4Dw",
        "colab_type": "code",
        "colab": {}
      },
      "source": [
        "\n",
        "def y2indicator(y):\n",
        "    N = len(y)\n",
        "    y = y.astype(np.int32)\n",
        "    ind = np.zeros((N, 10))\n",
        "    for i in range(N):\n",
        "        ind[i, y[i]] = 1\n",
        "    return ind"
      ],
      "execution_count": null,
      "outputs": []
    },
    {
      "cell_type": "code",
      "metadata": {
        "id": "LXHoP79PFvur",
        "colab_type": "code",
        "colab": {}
      },
      "source": [
        "def error_rate(p, t):\n",
        "    return np.mean(p != t)\n"
      ],
      "execution_count": null,
      "outputs": []
    },
    {
      "cell_type": "code",
      "metadata": {
        "id": "a_owhPVEFv1M",
        "colab_type": "code",
        "colab": {
          "base_uri": "https://localhost:8080/",
          "height": 622
        },
        "outputId": "ab68892d-3d7a-4a9a-889d-2a2b5365972d"
      },
      "source": [
        "def main():\n",
        "    # step 1: get the data and define all the usual variables\n",
        "    Xtrain, Xtest, Ytrain, Ytest = get_normalized_data()\n",
        "\n",
        "    max_iter = 15\n",
        "    print_period = 50\n",
        "\n",
        "    lr = 0.00004\n",
        "    reg = 0.01\n",
        "\n",
        "    Ytrain_ind = y2indicator(Ytrain)\n",
        "    Ytest_ind = y2indicator(Ytest)\n",
        "\n",
        "    N, D = Xtrain.shape\n",
        "    batch_sz = 500\n",
        "    n_batches = N // batch_sz\n",
        "\n",
        "    # add an extra layer just for fun\n",
        "    M1 = 300\n",
        "    M2 = 100\n",
        "    K = 10\n",
        "    W1_init = np.random.randn(D, M1) / np.sqrt(D)\n",
        "    b1_init = np.zeros(M1)\n",
        "    W2_init = np.random.randn(M1, M2) / np.sqrt(M1)\n",
        "    b2_init = np.zeros(M2)\n",
        "    W3_init = np.random.randn(M2, K) / np.sqrt(M2)\n",
        "    b3_init = np.zeros(K)\n",
        "\n",
        "\n",
        "    # define variables and expressions\n",
        "    X = tf.placeholder(tf.float32, shape=(None, D), name='X')\n",
        "    T = tf.placeholder(tf.float32, shape=(None, K), name='T')\n",
        "    W1 = tf.Variable(W1_init.astype(np.float32))\n",
        "    b1 = tf.Variable(b1_init.astype(np.float32))\n",
        "    W2 = tf.Variable(W2_init.astype(np.float32))\n",
        "    b2 = tf.Variable(b2_init.astype(np.float32))\n",
        "    W3 = tf.Variable(W3_init.astype(np.float32))\n",
        "    b3 = tf.Variable(b3_init.astype(np.float32))\n",
        "\n",
        "    # define the model\n",
        "    Z1 = tf.nn.relu( tf.matmul(X, W1) + b1 )\n",
        "    Z2 = tf.nn.relu( tf.matmul(Z1, W2) + b2 )\n",
        "    Yish = tf.matmul(Z2, W3) + b3 # remember, the cost function does the softmaxing! weird, right?\n",
        "\n",
        "    # softmax_cross_entropy_with_logits take in the \"logits\"\n",
        "    # if you wanted to know the actual output of the neural net,\n",
        "    # you could pass \"Yish\" into tf.nn.softmax(logits)\n",
        "    cost = tf.reduce_sum(tf.nn.softmax_cross_entropy_with_logits_v2(logits=Yish, labels=T))\n",
        "\n",
        "    # we choose the optimizer but don't implement the algorithm ourselves\n",
        "    # let's go with RMSprop, since we just learned about it.\n",
        "    # it includes momentum!\n",
        "    train_op = tf.train.RMSPropOptimizer(lr, decay=0.99, momentum=0.9).minimize(cost)\n",
        "\n",
        "    # we'll use this to calculate the error rate\n",
        "    predict_op = tf.argmax(Yish, 1)\n",
        "\n",
        "    costs = []\n",
        "    init = tf.global_variables_initializer()\n",
        "    with tf.Session() as session:\n",
        "        session.run(init)\n",
        "\n",
        "        for i in range(max_iter):\n",
        "            for j in range(n_batches):\n",
        "                Xbatch = Xtrain[j*batch_sz:(j*batch_sz + batch_sz),]\n",
        "                Ybatch = Ytrain_ind[j*batch_sz:(j*batch_sz + batch_sz),]\n",
        "\n",
        "                session.run(train_op, feed_dict={X: Xbatch, T: Ybatch})\n",
        "                if j % print_period == 0:\n",
        "                    test_cost = session.run(cost, feed_dict={X: Xtest, T: Ytest_ind})\n",
        "                    prediction = session.run(predict_op, feed_dict={X: Xtest})\n",
        "                    err = error_rate(prediction, Ytest)\n",
        "                    print(\"Cost / err at iteration i=%d, j=%d: %.3f / %.3f\" % (i, j, test_cost, err))\n",
        "                    costs.append(test_cost)\n",
        "\n",
        "    plt.plot(costs)\n",
        "    plt.show()\n",
        "\n",
        "\n",
        "if __name__ == '__main__':\n",
        "    main()"
      ],
      "execution_count": null,
      "outputs": [
        {
          "output_type": "stream",
          "text": [
            "Reading in and transforming data...\n",
            "WARNING:tensorflow:From /tensorflow-1.15.2/python3.6/tensorflow_core/python/training/rmsprop.py:119: calling Ones.__init__ (from tensorflow.python.ops.init_ops) with dtype is deprecated and will be removed in a future version.\n",
            "Instructions for updating:\n",
            "Call initializer instance with the dtype argument instead of passing it to the constructor\n",
            "Cost / err at iteration i=0, j=0: 2293.684 / 0.808\n",
            "Cost / err at iteration i=1, j=0: 477.426 / 0.132\n",
            "Cost / err at iteration i=2, j=0: 306.440 / 0.093\n",
            "Cost / err at iteration i=3, j=0: 253.498 / 0.085\n",
            "Cost / err at iteration i=4, j=0: 221.368 / 0.071\n",
            "Cost / err at iteration i=5, j=0: 199.308 / 0.064\n",
            "Cost / err at iteration i=6, j=0: 183.227 / 0.055\n",
            "Cost / err at iteration i=7, j=0: 171.117 / 0.050\n",
            "Cost / err at iteration i=8, j=0: 162.703 / 0.052\n",
            "Cost / err at iteration i=9, j=0: 156.316 / 0.049\n",
            "Cost / err at iteration i=10, j=0: 151.685 / 0.048\n",
            "Cost / err at iteration i=11, j=0: 148.569 / 0.049\n",
            "Cost / err at iteration i=12, j=0: 146.950 / 0.047\n",
            "Cost / err at iteration i=13, j=0: 146.198 / 0.046\n",
            "Cost / err at iteration i=14, j=0: 146.672 / 0.046\n"
          ],
          "name": "stdout"
        },
        {
          "output_type": "display_data",
          "data": {
            "image/png": "[encoded data removed]",
            "text/plain": [
              "<Figure size 432x288 with 1 Axes>"
            ]
          },
          "metadata": {
            "tags": [],
            "needs_background": "light"
          }
        }
      ]
    }
  ]
}