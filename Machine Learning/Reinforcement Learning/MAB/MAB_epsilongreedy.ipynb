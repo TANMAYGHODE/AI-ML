{
  "nbformat": 4,
  "nbformat_minor": 0,
  "metadata": {
    "colab": {
      "name": "MAB_epsilongreedy.ipynb",
      "provenance": [],
      "collapsed_sections": []
    },
    "kernelspec": {
      "name": "python3",
      "display_name": "Python 3"
    }
  },
  "cells": [
    {
      "cell_type": "code",
      "metadata": {
        "id": "vGmC42I4CBC7",
        "colab_type": "code",
        "colab": {}
      },
      "source": [
        "import matplotlib.pyplot as plt\n",
        "import numpy as np\n"
      ],
      "execution_count": 0,
      "outputs": []
    },
    {
      "cell_type": "code",
      "metadata": {
        "id": "QsyGPDzeQCjS",
        "colab_type": "code",
        "colab": {}
      },
      "source": [
        "trails=100000\n",
        "eps=[0,0.1,0.3,0.5,0.7,1]\n",
        "Bprob=[0.3,0.35,0.5]"
      ],
      "execution_count": 0,
      "outputs": []
    },
    {
      "cell_type": "code",
      "metadata": {
        "id": "atOAm4PjQb8d",
        "colab_type": "code",
        "colab": {}
      },
      "source": [
        "class Bandit():\n",
        "  def __init__(self,p):\n",
        "    self.p=p\n",
        "    self.p_estimate=0\n",
        "    self.N=0\n",
        "\n",
        "  def  pull(self):\n",
        "    return np.random.normal(self.p,0.1) \n",
        "\n",
        "  def update(self,x):\n",
        "    self.N=self.N+1\n",
        "    self.p_estimate=((self.p_estimate*(self.N-1))+x)/self.N\n",
        "\n"
      ],
      "execution_count": 0,
      "outputs": []
    },
    {
      "cell_type": "code",
      "metadata": {
        "id": "UjEenSCPR7y5",
        "colab_type": "code",
        "colab": {
          "base_uri": "https://localhost:8080/",
          "height": 1000
        },
        "outputId": "7322bcef-8da5-4cab-ab02-a75788e40885"
      },
      "source": [
        "from __future__ import print_function, division\n",
        "from builtins import range\n",
        "from random import randrange\n",
        "\n",
        "def experiment():\n",
        "  bdt=[Bandit(p) for p in Bprob ]\n",
        "  # reward=np.zeros(trails)\n",
        "  # num_explored=0\n",
        "  # num_exploited=0\n",
        "  # num_optimal=0\n",
        "  optimalarm = np.argmax([b.p for b in bdt])\n",
        "  print(\"optimal arm is \",optimalarm)\n",
        "  print(\"---------------------------\")\n",
        "  \n",
        "\n",
        " \n",
        "\n",
        "  for o in eps:\n",
        "    reward=np.zeros(trails)\n",
        "    num_explored=0\n",
        "    num_exploited=0\n",
        "    num_optimal=0\n",
        "\n",
        "    for i in range(trails):\n",
        "      if np.random.random()<o:\n",
        "        j=randrange(len(bdt))\n",
        "        num_explored+=1\n",
        "      else:\n",
        "        j=np.argmax([b.p_estimate for b in bdt])\n",
        "        num_exploited+=1\n",
        "      \n",
        "      if j==optimalarm:\n",
        "        num_optimal+=1\n",
        "      \n",
        "      rew = bdt[j].pull()\n",
        "      reward[i]=rew\n",
        "      bdt[j].update(rew)\n",
        "    print(\"For epsilon:\",o)\n",
        "    for b in bdt:\n",
        "      print(\"mean_estimate=\",b.p_estimate)\n",
        "\n",
        "    print(\"total reward earned:\", reward.sum())\n",
        "    print(\"overall win rate:\", reward.sum() / trails)\n",
        "    print(\"num_times_explored:\", num_explored)\n",
        "    print(\"num_times_exploited:\", num_exploited)\n",
        "    print(\"num times selected optimal bandit:\", num_optimal)\n",
        "    print(num_explored+num_exploited)\n",
        "    print(\"------------------------------------------------\")\n",
        "\n",
        "    cumulative_rewards = np.cumsum(reward)\n",
        "    y=[i for i in range(trails)]\n",
        "    \n",
        "    win_rates = cumulative_rewards / (np.arange(trails) + 1)\n",
        "    # print(len(win_rates))\n",
        "    # print(len(y))\n",
        "    # print(win_rates[0:100])\n",
        "    # # for i in range(len(reward)):\n",
        "    # #   reward[i]=reward[i]+reward[i-1]\n",
        "    plt.plot(y,win_rates,label=o)\n",
        "    \n",
        "    # plt.plot(np.ones(trails)*np.max(Bprob))\n",
        "    plt.legend()\n",
        "  plt.ylabel('Cummulative Reward')\n",
        "  plt.xlabel('Trails')\n",
        "  plt.show() \n",
        "    \n",
        "\n",
        "if __name__ == \"__main__\":\n",
        "  experiment()\n",
        "\n",
        "\n",
        "\n",
        "\n"
      ],
      "execution_count": 253,
      "outputs": [
        {
          "output_type": "stream",
          "text": [
            "optimal arm is  2\n",
            "---------------------------\n",
            "For epsilon: 0\n",
            "mean_estimate= 0.29997288112882553\n",
            "mean_estimate= 0\n",
            "mean_estimate= 0\n",
            "total reward earned: 29997.28811288283\n",
            "overall win rate: 0.2999728811288283\n",
            "num_times_explored: 0\n",
            "num_times_exploited: 100000\n",
            "num times selected optimal bandit: 0\n",
            "100000\n",
            "------------------------------------------------\n",
            "For epsilon: 0.1\n",
            "mean_estimate= 0.2999230667810681\n",
            "mean_estimate= 0.3504440467854417\n",
            "mean_estimate= 0.4997831510280426\n",
            "total reward earned: 48791.30775800642\n",
            "overall win rate: 0.4879130775800642\n",
            "num_times_explored: 10119\n",
            "num_times_exploited: 89881\n",
            "num times selected optimal bandit: 93224\n",
            "100000\n",
            "------------------------------------------------\n",
            "For epsilon: 0.3\n",
            "mean_estimate= 0.2998519928876258\n",
            "mean_estimate= 0.3493630660018791\n",
            "mean_estimate= 0.49986568656849056\n",
            "total reward earned: 46494.508835911794\n",
            "overall win rate: 0.46494508835911796\n",
            "num_times_explored: 29963\n",
            "num_times_exploited: 70037\n",
            "num times selected optimal bandit: 80077\n",
            "100000\n",
            "------------------------------------------------\n",
            "For epsilon: 0.5\n",
            "mean_estimate= 0.2998373517905154\n",
            "mean_estimate= 0.3491812626012594\n",
            "mean_estimate= 0.5000871656939012\n",
            "total reward earned: 44233.21975696975\n",
            "overall win rate: 0.44233219756969755\n",
            "num_times_explored: 49806\n",
            "num_times_exploited: 50194\n",
            "num times selected optimal bandit: 66942\n",
            "100000\n",
            "------------------------------------------------\n",
            "For epsilon: 0.7\n",
            "mean_estimate= 0.2998092554973755\n",
            "mean_estimate= 0.3494180083149364\n",
            "mean_estimate= 0.5000710926320636\n",
            "total reward earned: 41796.95641717073\n",
            "overall win rate: 0.41796956417170733\n",
            "num_times_explored: 69977\n",
            "num_times_exploited: 30023\n",
            "num times selected optimal bandit: 53181\n",
            "100000\n",
            "------------------------------------------------\n",
            "For epsilon: 1\n",
            "mean_estimate= 0.2999236646870763\n",
            "mean_estimate= 0.34985148723072595\n",
            "mean_estimate= 0.5000572161802841\n",
            "total reward earned: 38313.9565194521\n",
            "overall win rate: 0.38313956519452097\n",
            "num_times_explored: 100000\n",
            "num_times_exploited: 0\n",
            "num times selected optimal bandit: 33059\n",
            "100000\n",
            "------------------------------------------------\n"
          ],
          "name": "stdout"
        },
        {
          "output_type": "display_data",
          "data": {
            "image/png": "[encoded data removed]",
            "text/plain": [
              "<Figure size 432x288 with 1 Axes>"
            ]
          },
          "metadata": {
            "tags": [],
            "needs_background": "light"
          }
        }
      ]
    },
    {
      "cell_type": "code",
      "metadata": {
        "id": "6p0CUUs--sL-",
        "colab_type": "code",
        "colab": {}
      },
      "source": [
        "# k=0\n",
        "# for i in range(1000):\n",
        "#   k+=np.random.normal(0.5,0.01)\n",
        "# print(k/1000) "
      ],
      "execution_count": 0,
      "outputs": []
    },
    {
      "cell_type": "code",
      "metadata": {
        "id": "p0ZvRR4l_TR6",
        "colab_type": "code",
        "colab": {}
      },
      "source": [
        ""
      ],
      "execution_count": 0,
      "outputs": []
    },
    {
      "cell_type": "code",
      "metadata": {
        "id": "WFciSrYw_TVF",
        "colab_type": "code",
        "colab": {}
      },
      "source": [
        ""
      ],
      "execution_count": 0,
      "outputs": []
    },
    {
      "cell_type": "markdown",
      "metadata": {
        "id": "mGRGocAXrtjA",
        "colab_type": "text"
      },
      "source": [
        ""
      ]
    }
  ]
}